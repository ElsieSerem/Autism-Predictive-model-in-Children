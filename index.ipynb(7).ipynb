{
 "cells": [
  {
   "cell_type": "markdown",
   "metadata": {},
   "source": [
    "# BUSINESS UNDERSTANDING\n",
    "1) Define stakeholder and business problem\n",
    "Choose a healthcare company focused on pediatric care or mental health.\n",
    "Business Problem: \"How can we improve the early detection of autism in children to enhance patient outcomes and reduce diagnostic costs?\"\n",
    "\n",
    "2) Set clear Objectives\n",
    "Improve diagnostic efficiency, enhance patient care, and generate revenue.\n",
    "Ensure these objectives are directly linked to your model's outcomes.(Add onto that)\n",
    "\n",
    "3) Communicate the rational say why machine learning is suitable\n",
    "\n"
   ]
  },
  {
   "cell_type": "markdown",
   "metadata": {},
   "source": [
    "# DATA UNDERSTANDING\n",
    "1) Choose and Describe the Dataset:\n",
    "\n",
    "Autism Spectrum Disorder Screening Data (Children).\n",
    "Explain the data’s relevance, including the target variable and key features (e.g., child’s age, scores from screening tests).\n",
    "\n",
    "2) Explore the dataset to understand its structure, features, target variable, and any missing or non-numeric data. Use descriptive statistics and visualizations (like histograms, box plots, and scatter plots) to identify patterns or anomalies."
   ]
  },
  {
   "cell_type": "code",
   "execution_count": 100,
   "metadata": {},
   "outputs": [],
   "source": [
    "# import the neessary libraries that will be utilized for data understanding\n",
    "import pandas as pd\n",
    "import numpy as np\n",
    "import matplotlib.pyplot as plt\n",
    "import seaborn as sns\n",
    "\n",
    "import statsmodels.api as sm\n",
    "from sklearn.model_selection import train_test_split, GridSearchCV, cross_val_score\n",
    "from sklearn.preprocessing import StandardScaler, OneHotEncoder\n",
    "from sklearn.compose import ColumnTransformer\n",
    "from sklearn.pipeline import Pipeline\n",
    "from sklearn.metrics import classification_report, confusion_matrix, accuracy_score, roc_auc_score\n",
    "from sklearn.linear_model import LogisticRegression\n",
    "from sklearn.tree import DecisionTreeClassifier\n",
    "from sklearn.ensemble import RandomForestClassifier\n",
    "from sklearn.neighbors import KNeighborsClassifier\n",
    "\n"
   ]
  },
  {
   "cell_type": "markdown",
   "metadata": {},
   "source": [
    "Hiii\n"
   ]
  },
  {
   "cell_type": "code",
   "execution_count": 101,
   "metadata": {},
   "outputs": [
    {
     "data": {
      "text/html": [
       "<div>\n",
       "<style scoped>\n",
       "    .dataframe tbody tr th:only-of-type {\n",
       "        vertical-align: middle;\n",
       "    }\n",
       "\n",
       "    .dataframe tbody tr th {\n",
       "        vertical-align: top;\n",
       "    }\n",
       "\n",
       "    .dataframe thead th {\n",
       "        text-align: right;\n",
       "    }\n",
       "</style>\n",
       "<table border=\"1\" class=\"dataframe\">\n",
       "  <thead>\n",
       "    <tr style=\"text-align: right;\">\n",
       "      <th></th>\n",
       "      <th>id</th>\n",
       "      <th>A1_Score</th>\n",
       "      <th>A2_Score</th>\n",
       "      <th>A3_Score</th>\n",
       "      <th>A4_Score</th>\n",
       "      <th>A5_Score</th>\n",
       "      <th>A6_Score</th>\n",
       "      <th>A7_Score</th>\n",
       "      <th>A8_Score</th>\n",
       "      <th>A9_Score</th>\n",
       "      <th>...</th>\n",
       "      <th>gender</th>\n",
       "      <th>ethnicity</th>\n",
       "      <th>jundice</th>\n",
       "      <th>austim</th>\n",
       "      <th>contry_of_res</th>\n",
       "      <th>used_app_before</th>\n",
       "      <th>result</th>\n",
       "      <th>age_desc</th>\n",
       "      <th>relation</th>\n",
       "      <th>Class/ASD</th>\n",
       "    </tr>\n",
       "  </thead>\n",
       "  <tbody>\n",
       "    <tr>\n",
       "      <th>0</th>\n",
       "      <td>1</td>\n",
       "      <td>1</td>\n",
       "      <td>1</td>\n",
       "      <td>0</td>\n",
       "      <td>0</td>\n",
       "      <td>1</td>\n",
       "      <td>1</td>\n",
       "      <td>0</td>\n",
       "      <td>1</td>\n",
       "      <td>0</td>\n",
       "      <td>...</td>\n",
       "      <td>m</td>\n",
       "      <td>Others</td>\n",
       "      <td>no</td>\n",
       "      <td>no</td>\n",
       "      <td>Jordan</td>\n",
       "      <td>no</td>\n",
       "      <td>5</td>\n",
       "      <td>4-11 years</td>\n",
       "      <td>Parent</td>\n",
       "      <td>NO</td>\n",
       "    </tr>\n",
       "    <tr>\n",
       "      <th>1</th>\n",
       "      <td>2</td>\n",
       "      <td>1</td>\n",
       "      <td>1</td>\n",
       "      <td>0</td>\n",
       "      <td>0</td>\n",
       "      <td>1</td>\n",
       "      <td>1</td>\n",
       "      <td>0</td>\n",
       "      <td>1</td>\n",
       "      <td>0</td>\n",
       "      <td>...</td>\n",
       "      <td>m</td>\n",
       "      <td>Middle Eastern</td>\n",
       "      <td>no</td>\n",
       "      <td>no</td>\n",
       "      <td>Jordan</td>\n",
       "      <td>no</td>\n",
       "      <td>5</td>\n",
       "      <td>4-11 years</td>\n",
       "      <td>Parent</td>\n",
       "      <td>NO</td>\n",
       "    </tr>\n",
       "    <tr>\n",
       "      <th>2</th>\n",
       "      <td>3</td>\n",
       "      <td>1</td>\n",
       "      <td>1</td>\n",
       "      <td>0</td>\n",
       "      <td>0</td>\n",
       "      <td>0</td>\n",
       "      <td>1</td>\n",
       "      <td>1</td>\n",
       "      <td>1</td>\n",
       "      <td>0</td>\n",
       "      <td>...</td>\n",
       "      <td>m</td>\n",
       "      <td>?</td>\n",
       "      <td>no</td>\n",
       "      <td>no</td>\n",
       "      <td>Jordan</td>\n",
       "      <td>yes</td>\n",
       "      <td>5</td>\n",
       "      <td>4-11 years</td>\n",
       "      <td>?</td>\n",
       "      <td>NO</td>\n",
       "    </tr>\n",
       "    <tr>\n",
       "      <th>3</th>\n",
       "      <td>4</td>\n",
       "      <td>0</td>\n",
       "      <td>1</td>\n",
       "      <td>0</td>\n",
       "      <td>0</td>\n",
       "      <td>1</td>\n",
       "      <td>1</td>\n",
       "      <td>0</td>\n",
       "      <td>0</td>\n",
       "      <td>0</td>\n",
       "      <td>...</td>\n",
       "      <td>f</td>\n",
       "      <td>?</td>\n",
       "      <td>yes</td>\n",
       "      <td>no</td>\n",
       "      <td>Jordan</td>\n",
       "      <td>no</td>\n",
       "      <td>4</td>\n",
       "      <td>4-11 years</td>\n",
       "      <td>?</td>\n",
       "      <td>NO</td>\n",
       "    </tr>\n",
       "    <tr>\n",
       "      <th>4</th>\n",
       "      <td>5</td>\n",
       "      <td>1</td>\n",
       "      <td>1</td>\n",
       "      <td>1</td>\n",
       "      <td>1</td>\n",
       "      <td>1</td>\n",
       "      <td>1</td>\n",
       "      <td>1</td>\n",
       "      <td>1</td>\n",
       "      <td>1</td>\n",
       "      <td>...</td>\n",
       "      <td>m</td>\n",
       "      <td>Others</td>\n",
       "      <td>yes</td>\n",
       "      <td>no</td>\n",
       "      <td>United States</td>\n",
       "      <td>no</td>\n",
       "      <td>10</td>\n",
       "      <td>4-11 years</td>\n",
       "      <td>Parent</td>\n",
       "      <td>YES</td>\n",
       "    </tr>\n",
       "  </tbody>\n",
       "</table>\n",
       "<p>5 rows × 22 columns</p>\n",
       "</div>"
      ],
      "text/plain": [
       "   id  A1_Score  A2_Score  A3_Score  A4_Score  A5_Score  A6_Score  A7_Score  \\\n",
       "0   1         1         1         0         0         1         1         0   \n",
       "1   2         1         1         0         0         1         1         0   \n",
       "2   3         1         1         0         0         0         1         1   \n",
       "3   4         0         1         0         0         1         1         0   \n",
       "4   5         1         1         1         1         1         1         1   \n",
       "\n",
       "   A8_Score  A9_Score  ...  gender        ethnicity jundice austim  \\\n",
       "0         1         0  ...       m           Others      no     no   \n",
       "1         1         0  ...       m  Middle Eastern       no     no   \n",
       "2         1         0  ...       m                ?      no     no   \n",
       "3         0         0  ...       f                ?     yes     no   \n",
       "4         1         1  ...       m           Others     yes     no   \n",
       "\n",
       "   contry_of_res used_app_before result    age_desc  relation Class/ASD  \n",
       "0         Jordan              no      5  4-11 years    Parent        NO  \n",
       "1         Jordan              no      5  4-11 years    Parent        NO  \n",
       "2         Jordan             yes      5  4-11 years         ?        NO  \n",
       "3         Jordan              no      4  4-11 years         ?        NO  \n",
       "4  United States              no     10  4-11 years    Parent       YES  \n",
       "\n",
       "[5 rows x 22 columns]"
      ]
     },
     "execution_count": 101,
     "metadata": {},
     "output_type": "execute_result"
    }
   ],
   "source": [
    "# Load the dataset\n",
    "file_path = r\"C:\\Users\\Administrator\\Documents\\Moringa\\Phase 3\\Autism Project\\Autism-Child-Data.csv\"\n",
    "\n",
    "df = pd.read_csv(file_path)\n",
    "df.head() # Enables us to preview the first 5 rows of the data"
   ]
  },
  {
   "cell_type": "code",
   "execution_count": 102,
   "metadata": {},
   "outputs": [
    {
     "name": "stdout",
     "output_type": "stream",
     "text": [
      "<class 'pandas.core.frame.DataFrame'>\n",
      "RangeIndex: 292 entries, 0 to 291\n",
      "Data columns (total 22 columns):\n",
      " #   Column           Non-Null Count  Dtype \n",
      "---  ------           --------------  ----- \n",
      " 0   id               292 non-null    int64 \n",
      " 1   A1_Score         292 non-null    int64 \n",
      " 2   A2_Score         292 non-null    int64 \n",
      " 3   A3_Score         292 non-null    int64 \n",
      " 4   A4_Score         292 non-null    int64 \n",
      " 5   A5_Score         292 non-null    int64 \n",
      " 6   A6_Score         292 non-null    int64 \n",
      " 7   A7_Score         292 non-null    int64 \n",
      " 8   A8_Score         292 non-null    int64 \n",
      " 9   A9_Score         292 non-null    int64 \n",
      " 10  A10_Score        292 non-null    int64 \n",
      " 11  age              292 non-null    object\n",
      " 12  gender           292 non-null    object\n",
      " 13  ethnicity        292 non-null    object\n",
      " 14  jundice          292 non-null    object\n",
      " 15  austim           292 non-null    object\n",
      " 16  contry_of_res    292 non-null    object\n",
      " 17  used_app_before  292 non-null    object\n",
      " 18  result           292 non-null    int64 \n",
      " 19  age_desc         292 non-null    object\n",
      " 20  relation         292 non-null    object\n",
      " 21  Class/ASD        292 non-null    object\n",
      "dtypes: int64(12), object(10)\n",
      "memory usage: 50.3+ KB\n"
     ]
    }
   ],
   "source": [
    "df.info()"
   ]
  },
  {
   "cell_type": "markdown",
   "metadata": {},
   "source": [
    "Explain the data set has ? to fill in for the missing values and why we have to change it to null values"
   ]
  },
  {
   "cell_type": "code",
   "execution_count": 103,
   "metadata": {},
   "outputs": [
    {
     "name": "stdout",
     "output_type": "stream",
     "text": [
      "<class 'pandas.core.frame.DataFrame'>\n",
      "RangeIndex: 292 entries, 0 to 291\n",
      "Data columns (total 22 columns):\n",
      " #   Column           Non-Null Count  Dtype \n",
      "---  ------           --------------  ----- \n",
      " 0   id               292 non-null    int64 \n",
      " 1   A1_Score         292 non-null    int64 \n",
      " 2   A2_Score         292 non-null    int64 \n",
      " 3   A3_Score         292 non-null    int64 \n",
      " 4   A4_Score         292 non-null    int64 \n",
      " 5   A5_Score         292 non-null    int64 \n",
      " 6   A6_Score         292 non-null    int64 \n",
      " 7   A7_Score         292 non-null    int64 \n",
      " 8   A8_Score         292 non-null    int64 \n",
      " 9   A9_Score         292 non-null    int64 \n",
      " 10  A10_Score        292 non-null    int64 \n",
      " 11  age              288 non-null    object\n",
      " 12  gender           292 non-null    object\n",
      " 13  ethnicity        249 non-null    object\n",
      " 14  jundice          292 non-null    object\n",
      " 15  austim           292 non-null    object\n",
      " 16  contry_of_res    292 non-null    object\n",
      " 17  used_app_before  292 non-null    object\n",
      " 18  result           292 non-null    int64 \n",
      " 19  age_desc         292 non-null    object\n",
      " 20  relation         249 non-null    object\n",
      " 21  Class/ASD        292 non-null    object\n",
      "dtypes: int64(12), object(10)\n",
      "memory usage: 50.3+ KB\n"
     ]
    }
   ],
   "source": [
    "# Replace The question marks with NAN Values\n",
    "df.replace('?', pd.NA, inplace= True)\n",
    "df.info()"
   ]
  },
  {
   "cell_type": "markdown",
   "metadata": {},
   "source": [
    "Identify the columns with missing values and see how to impute them"
   ]
  },
  {
   "cell_type": "code",
   "execution_count": 104,
   "metadata": {},
   "outputs": [],
   "source": [
    "#Convert Age to a numeric\n",
    "df['age']= pd.to_numeric(df['age'], errors= 'coerce')\n",
    "\n",
    "# Work on the missing values\n",
    "# impute the numerical columns with median\n",
    "df['age'].fillna( df['age'].median(), inplace= True)\n",
    "\n",
    "#impute the categorical columns with mode()\n",
    "df['ethnicity'].fillna( df['ethnicity'].mode()[0], inplace= True)\n",
    "df['relation'].fillna( df['relation'].mode()[0], inplace= True)"
   ]
  },
  {
   "cell_type": "code",
   "execution_count": 105,
   "metadata": {},
   "outputs": [
    {
     "data": {
      "text/plain": [
       "relation\n",
       "Parent                      257\n",
       "Relative                     17\n",
       "Health care professional     13\n",
       "Self                          5\n",
       "Name: count, dtype: int64"
      ]
     },
     "execution_count": 105,
     "metadata": {},
     "output_type": "execute_result"
    }
   ],
   "source": [
    "# Handle data quality issues such \n",
    "# Rename 'jundice' to 'jaundice' using `rename`\n",
    "df.rename(columns={'jundice': 'jaundice'}, inplace= True)\n",
    "# Rename self to Self\n",
    "df['relation']= df['relation'].str.capitalize() # the capitalize function ensures uniform capitlization throughout the column\n",
    "df['relation'].value_counts() # This function calls the composition of the column to ensure that the changes have been made\n"
   ]
  },
  {
   "cell_type": "markdown",
   "metadata": {},
   "source": [
    "We can now check to confirm that all the missing values have been handles using is null and describe"
   ]
  },
  {
   "cell_type": "code",
   "execution_count": 106,
   "metadata": {},
   "outputs": [
    {
     "data": {
      "text/plain": [
       "id                 0\n",
       "A1_Score           0\n",
       "A2_Score           0\n",
       "A3_Score           0\n",
       "A4_Score           0\n",
       "A5_Score           0\n",
       "A6_Score           0\n",
       "A7_Score           0\n",
       "A8_Score           0\n",
       "A9_Score           0\n",
       "A10_Score          0\n",
       "age                0\n",
       "gender             0\n",
       "ethnicity          0\n",
       "jaundice           0\n",
       "austim             0\n",
       "contry_of_res      0\n",
       "used_app_before    0\n",
       "result             0\n",
       "age_desc           0\n",
       "relation           0\n",
       "Class/ASD          0\n",
       "dtype: int64"
      ]
     },
     "execution_count": 106,
     "metadata": {},
     "output_type": "execute_result"
    }
   ],
   "source": [
    "# Check for missing values\n",
    "df.isnull().sum()"
   ]
  },
  {
   "cell_type": "code",
   "execution_count": 107,
   "metadata": {},
   "outputs": [
    {
     "name": "stdout",
     "output_type": "stream",
     "text": [
      "Basic statistics for numerical features: \n",
      "                id    A1_Score    A2_Score    A3_Score    A4_Score    A5_Score  \\\n",
      "count  292.000000  292.000000  292.000000  292.000000  292.000000  292.000000   \n",
      "mean   146.500000    0.633562    0.534247    0.743151    0.551370    0.743151   \n",
      "std     84.437354    0.482658    0.499682    0.437646    0.498208    0.437646   \n",
      "min      1.000000    0.000000    0.000000    0.000000    0.000000    0.000000   \n",
      "25%     73.750000    0.000000    0.000000    0.000000    0.000000    0.000000   \n",
      "50%    146.500000    1.000000    1.000000    1.000000    1.000000    1.000000   \n",
      "75%    219.250000    1.000000    1.000000    1.000000    1.000000    1.000000   \n",
      "max    292.000000    1.000000    1.000000    1.000000    1.000000    1.000000   \n",
      "\n",
      "         A6_Score    A7_Score    A8_Score    A9_Score   A10_Score         age  \\\n",
      "count  292.000000  292.000000  292.000000  292.000000  292.000000  292.000000   \n",
      "mean     0.712329    0.606164    0.496575    0.493151    0.726027    6.349315   \n",
      "std      0.453454    0.489438    0.500847    0.500811    0.446761    2.349504   \n",
      "min      0.000000    0.000000    0.000000    0.000000    0.000000    4.000000   \n",
      "25%      0.000000    0.000000    0.000000    0.000000    0.000000    4.000000   \n",
      "50%      1.000000    1.000000    0.000000    0.000000    1.000000    6.000000   \n",
      "75%      1.000000    1.000000    1.000000    1.000000    1.000000    8.000000   \n",
      "max      1.000000    1.000000    1.000000    1.000000    1.000000   11.000000   \n",
      "\n",
      "           result  \n",
      "count  292.000000  \n",
      "mean     6.239726  \n",
      "std      2.284882  \n",
      "min      0.000000  \n",
      "25%      5.000000  \n",
      "50%      6.000000  \n",
      "75%      8.000000  \n",
      "max     10.000000  \n"
     ]
    }
   ],
   "source": [
    "# Get a summary of the numerical features\n",
    "print(\"Basic statistics for numerical features: \\n\", df.describe() )\n"
   ]
  },
  {
   "cell_type": "code",
   "execution_count": 108,
   "metadata": {},
   "outputs": [
    {
     "name": "stdout",
     "output_type": "stream",
     "text": [
      "Summary of categorical features: \n",
      "        gender       ethnicity jaundice austim   contry_of_res used_app_before  \\\n",
      "count     292             292      292    292             292             292   \n",
      "unique      2              10        2      2              52               2   \n",
      "top         m  White-European       no     no  United Kingdom              no   \n",
      "freq      208             151      212    243              49             281   \n",
      "\n",
      "          age_desc relation Class/ASD  \n",
      "count          292      292       292  \n",
      "unique           1        4         2  \n",
      "top     4-11 years   Parent        NO  \n",
      "freq           292      257       151  \n"
     ]
    }
   ],
   "source": [
    "# Summary of categorical features\n",
    "print(\"Summary of categorical features: \\n\", df.describe( include= ['object']))"
   ]
  },
  {
   "cell_type": "markdown",
   "metadata": {},
   "source": [
    "Visualize the current districution relations then say why this is neccesary"
   ]
  },
  {
   "cell_type": "code",
   "execution_count": 109,
   "metadata": {},
   "outputs": [
    {
     "data": {
      "image/png": "[encoded data removed]",
      "text/plain": [
       "<Figure size 800x600 with 2 Axes>"
      ]
     },
     "metadata": {},
     "output_type": "display_data"
    },
    {
     "data": {
      "image/png": "[encoded data removed]",
      "text/plain": [
       "<Figure size 500x300 with 1 Axes>"
      ]
     },
     "metadata": {},
     "output_type": "display_data"
    },
    {
     "data": {
      "image/png": "[encoded data removed]",
      "text/plain": [
       "<Figure size 500x300 with 1 Axes>"
      ]
     },
     "metadata": {},
     "output_type": "display_data"
    },
    {
     "data": {
      "image/png": "[encoded data removed]",
      "text/plain": [
       "<Figure size 500x300 with 1 Axes>"
      ]
     },
     "metadata": {},
     "output_type": "display_data"
    },
    {
     "data": {
      "image/png": "[encoded data removed]",
      "text/plain": [
       "<Figure size 500x300 with 1 Axes>"
      ]
     },
     "metadata": {},
     "output_type": "display_data"
    },
    {
     "data": {
      "image/png": "[encoded data removed]",
      "text/plain": [
       "<Figure size 500x300 with 1 Axes>"
      ]
     },
     "metadata": {},
     "output_type": "display_data"
    }
   ],
   "source": [
    "import matplotlib.pyplot as plt\n",
    "import seaborn as sns\n",
    "from scipy import stats\n",
    "\n",
    "# Convert any non-numeric columns to numeric if possible\n",
    "df['age'] = pd.to_numeric(df['age'], errors='coerce')\n",
    "\n",
    "# Heatmap to show correlations between numerical variables\n",
    "plt.figure(figsize=(8, 6))\n",
    "sns.heatmap(df.corr(numeric_only=True), annot=True, cmap='coolwarm', fmt=\".2f\")\n",
    "plt.title('Correlation Heatmap')\n",
    "plt.show()\n",
    "\n",
    "# Bar plot for categorical variables\n",
    "\n",
    "categorical_columns = ['gender', 'ethnicity', 'jaundice', 'austim', 'Class/ASD']\n",
    "colors = ['skyblue', 'lightgreen', 'salmon', 'lightcoral', 'yellow']\n",
    "\n",
    "for i, col in enumerate(categorical_columns):\n",
    "    plt.figure(figsize=(5, 3))\n",
    "    df[col].value_counts().plot(kind='bar', color=colors[i % len(colors)])\n",
    "    plt.title(f'Distribution of {col}')\n",
    "    plt.xlabel(col)\n",
    "    plt.ylabel('Count')\n",
    "    plt.xticks(rotation=45)\n",
    "    plt.show()\n",
    "\n"
   ]
  },
  {
   "cell_type": "markdown",
   "metadata": {},
   "source": [
    "Explain why we are using Z score to check for outliers and mention what other way can be used."
   ]
  },
  {
   "cell_type": "markdown",
   "metadata": {},
   "source": [
    " # Data Preparation\n",
    " We start by feature engineering state what it is and why and how it can be used"
   ]
  },
  {
   "cell_type": "code",
   "execution_count": 110,
   "metadata": {},
   "outputs": [
    {
     "name": "stdout",
     "output_type": "stream",
     "text": [
      "Number of outliers detected: 0\n"
     ]
    }
   ],
   "source": [
    "# Check for outliers using Z-scores\n",
    "z_scores = np.abs(stats.zscore(df[['age', 'result']]))\n",
    "outliers = (z_scores > 3).all(axis=1)\n",
    "print(\"Number of outliers detected:\", np.sum(outliers))"
   ]
  },
  {
   "cell_type": "markdown",
   "metadata": {},
   "source": [
    "Feature engineering explain what it is and why we are choosing this specific data and the importance"
   ]
  },
  {
   "cell_type": "code",
   "execution_count": 111,
   "metadata": {},
   "outputs": [
    {
     "data": {
      "text/plain": [
       "age_binned\n",
       "4-5      92\n",
       "5-6      45\n",
       "6-7      43\n",
       "7-8      27\n",
       "8-9      21\n",
       "9-10     20\n",
       "10-11    18\n",
       "Name: count, dtype: int64"
      ]
     },
     "execution_count": 111,
     "metadata": {},
     "output_type": "execute_result"
    }
   ],
   "source": [
    "# Define bins for 1-year intervals\n",
    "bins= range(4,12) # ages are from 4 to 11\n",
    "labels= [f'{i}-{i+1}' for i in range(4,11)]\n",
    "\n",
    "#Bin the age column\n",
    "df['age_binned']=pd.cut(df['age'], bins= bins, labels= labels, right= False)\n",
    "\n",
    "# Check the distribution of binned ages\n",
    "df['age_binned'].value_counts()"
   ]
  },
  {
   "cell_type": "code",
   "execution_count": 112,
   "metadata": {},
   "outputs": [],
   "source": [
    "# We start by identifying the categorical columns and one-hot encode The categorical variables\n",
    "df_encoded=pd.get_dummies(df, columns= ['gender', 'ethnicity', 'jaundice', 'austim', 'relation'])"
   ]
  },
  {
   "cell_type": "code",
   "execution_count": null,
   "metadata": {},
   "outputs": [],
   "source": [
    "# We start by identifying the categorical columns and one-hot encode The categorical variables\n",
    "categorical_columns=['gender', 'ethnicity', 'jaundice', 'austim', 'relation']\n",
    "X_encoded= pd.get_dummies(df, columns= ['gender', 'ethnicity', 'jaundice', 'austim', 'relation']"
   ]
  },
  {
   "cell_type": "markdown",
   "metadata": {},
   "source": [
    "Explain why we can't choose country of res"
   ]
  },
  {
   "cell_type": "code",
   "execution_count": 113,
   "metadata": {},
   "outputs": [
    {
     "data": {
      "text/plain": [
       "contry_of_res\n",
       "United Kingdom           49\n",
       "India                    42\n",
       "United States            42\n",
       "Australia                23\n",
       "Jordan                   20\n",
       "New Zealand              13\n",
       "Egypt                     9\n",
       "United Arab Emirates      7\n",
       "Canada                    7\n",
       "Bangladesh                6\n",
       "Philippines               4\n",
       "Pakistan                  4\n",
       "Saudi Arabia              4\n",
       "Russia                    3\n",
       "Syria                     3\n",
       "Iraq                      3\n",
       "Qatar                     3\n",
       "Armenia                   3\n",
       "Libya                     3\n",
       "Afghanistan               2\n",
       "Georgia                   2\n",
       "Bahrain                   2\n",
       "Italy                     2\n",
       "Malaysia                  2\n",
       "Austria                   2\n",
       "Brazil                    2\n",
       "Turkey                    2\n",
       "Lebanon                   2\n",
       "Mexico                    2\n",
       "South Africa              2\n",
       "Ghana                     1\n",
       "U.S. Outlying Islands     1\n",
       "Nigeria                   1\n",
       "Nepal                     1\n",
       "Isle of Man               1\n",
       "China                     1\n",
       "Latvia                    1\n",
       "Germany                   1\n",
       "South Korea               1\n",
       "Netherlands               1\n",
       "Romania                   1\n",
       "Ireland                   1\n",
       "Japan                     1\n",
       "Argentina                 1\n",
       "Sweden                    1\n",
       "Costa Rica                1\n",
       "Oman                      1\n",
       "Bulgaria                  1\n",
       "Malta                     1\n",
       "Europe                    1\n",
       "Kuwait                    1\n",
       "Bhutan                    1\n",
       "Name: count, dtype: int64"
      ]
     },
     "execution_count": 113,
     "metadata": {},
     "output_type": "execute_result"
    }
   ],
   "source": [
    "df['contry_of_res'].value_counts()"
   ]
  },
  {
   "cell_type": "markdown",
   "metadata": {},
   "source": [
    "Feature selection and say why they are being chosen"
   ]
  },
  {
   "cell_type": "code",
   "execution_count": 116,
   "metadata": {},
   "outputs": [
    {
     "data": {
      "text/plain": [
       "Class/ASD\n",
       "NO     151\n",
       "YES    141\n",
       "Name: count, dtype: int64"
      ]
     },
     "execution_count": 116,
     "metadata": {},
     "output_type": "execute_result"
    }
   ],
   "source": [
    "df['Class/ASD'].value_counts()"
   ]
  },
  {
   "cell_type": "markdown",
   "metadata": {},
   "source": [
    "Say what it does and why these two-feature scaling"
   ]
  },
  {
   "cell_type": "code",
   "execution_count": 124,
   "metadata": {},
   "outputs": [],
   "source": [
    "# One-hot encode the categorical variables\n",
    "categorical_columns = ['gender', 'ethnicity', 'jaundice', 'austim', 'relation']\n",
    "df_encoded = pd.get_dummies(df, columns=categorical_columns)\n",
    "\n",
    "# Drop 'country_of_res' as it does not provide useful information for prediction\n",
    "df_encoded.drop(columns=['contry_of_res'], inplace=True)\n",
    "\n",
    "# Prepare the feature set and target variable\n",
    "X = df_encoded.drop(columns=['Class/ASD'])\n",
    "y = df_encoded['Class/ASD'].map({'NO': 0, 'YES': 1})"
   ]
  },
  {
   "cell_type": "markdown",
   "metadata": {},
   "source": [
    "Handling imbalanced data we wont because they are almost balanced\n"
   ]
  },
  {
   "cell_type": "code",
   "execution_count": 125,
   "metadata": {},
   "outputs": [
    {
     "name": "stdout",
     "output_type": "stream",
     "text": [
      "Class distribution in training set:\n",
      " Class/ASD\n",
      "1    104\n",
      "0    100\n",
      "Name: count, dtype: int64\n"
     ]
    }
   ],
   "source": [
    "# Split the dataset into training and testing sets\n",
    "X_train, X_test, y_train, y_test = train_test_split(X, y, test_size=0.3, random_state=42)\n",
    "\n",
    "# Check class balance\n",
    "print(\"Class distribution in training set:\\n\", y_train.value_counts())"
   ]
  },
  {
   "cell_type": "code",
   "execution_count": 126,
   "metadata": {},
   "outputs": [],
   "source": [
    "# Feature scaling for numerical columns\n",
    "scaler = StandardScaler()\n",
    "num_cols = ['age', 'result']\n",
    "X_train[num_cols] = scaler.fit_transform(X_train[num_cols])\n",
    "X_test[num_cols] = scaler.transform(X_test[num_cols])"
   ]
  },
  {
   "cell_type": "code",
   "execution_count": 127,
   "metadata": {},
   "outputs": [],
   "source": [
    "# Initialize models\n",
    "models = {\n",
    "    'Logistic Regression': LogisticRegression(),\n",
    "    'Decision Tree': DecisionTreeClassifier(),\n",
    "    'Random Forest': RandomForestClassifier()\n",
    "}"
   ]
  },
  {
   "cell_type": "markdown",
   "metadata": {},
   "source": [
    " # Logistic Regression\n",
    " "
   ]
  },
  {
   "cell_type": "code",
   "execution_count": 130,
   "metadata": {},
   "outputs": [
    {
     "name": "stdout",
     "output_type": "stream",
     "text": [
      "\n",
      "Training Decision Tree...\n"
     ]
    },
    {
     "ename": "ValueError",
     "evalue": "could not convert string to float: 'no'",
     "output_type": "error",
     "traceback": [
      "\u001b[1;31m---------------------------------------------------------------------------\u001b[0m",
      "\u001b[1;31mValueError\u001b[0m                                Traceback (most recent call last)",
      "Cell \u001b[1;32mIn[130], line 4\u001b[0m\n\u001b[0;32m      2\u001b[0m \u001b[38;5;28mprint\u001b[39m(\u001b[38;5;124m\"\u001b[39m\u001b[38;5;130;01m\\n\u001b[39;00m\u001b[38;5;124mTraining Decision Tree...\u001b[39m\u001b[38;5;124m\"\u001b[39m)\n\u001b[0;32m      3\u001b[0m dtree \u001b[38;5;241m=\u001b[39m models[\u001b[38;5;124m'\u001b[39m\u001b[38;5;124mDecision Tree\u001b[39m\u001b[38;5;124m'\u001b[39m]\n\u001b[1;32m----> 4\u001b[0m dtree\u001b[38;5;241m.\u001b[39mfit(X_train, y_train)\n\u001b[0;32m      5\u001b[0m y_pred_dt \u001b[38;5;241m=\u001b[39m dtree\u001b[38;5;241m.\u001b[39mpredict(X_test)\n\u001b[0;32m      7\u001b[0m \u001b[38;5;66;03m# Evaluate the Decision Tree model\u001b[39;00m\n",
      "File \u001b[1;32mc:\\Users\\Administrator\\anaconda3\\Lib\\site-packages\\sklearn\\tree\\_classes.py:889\u001b[0m, in \u001b[0;36mDecisionTreeClassifier.fit\u001b[1;34m(self, X, y, sample_weight, check_input)\u001b[0m\n\u001b[0;32m    859\u001b[0m \u001b[38;5;28;01mdef\u001b[39;00m \u001b[38;5;21mfit\u001b[39m(\u001b[38;5;28mself\u001b[39m, X, y, sample_weight\u001b[38;5;241m=\u001b[39m\u001b[38;5;28;01mNone\u001b[39;00m, check_input\u001b[38;5;241m=\u001b[39m\u001b[38;5;28;01mTrue\u001b[39;00m):\n\u001b[0;32m    860\u001b[0m \u001b[38;5;250m    \u001b[39m\u001b[38;5;124;03m\"\"\"Build a decision tree classifier from the training set (X, y).\u001b[39;00m\n\u001b[0;32m    861\u001b[0m \n\u001b[0;32m    862\u001b[0m \u001b[38;5;124;03m    Parameters\u001b[39;00m\n\u001b[1;32m   (...)\u001b[0m\n\u001b[0;32m    886\u001b[0m \u001b[38;5;124;03m        Fitted estimator.\u001b[39;00m\n\u001b[0;32m    887\u001b[0m \u001b[38;5;124;03m    \"\"\"\u001b[39;00m\n\u001b[1;32m--> 889\u001b[0m     \u001b[38;5;28msuper\u001b[39m()\u001b[38;5;241m.\u001b[39mfit(\n\u001b[0;32m    890\u001b[0m         X,\n\u001b[0;32m    891\u001b[0m         y,\n\u001b[0;32m    892\u001b[0m         sample_weight\u001b[38;5;241m=\u001b[39msample_weight,\n\u001b[0;32m    893\u001b[0m         check_input\u001b[38;5;241m=\u001b[39mcheck_input,\n\u001b[0;32m    894\u001b[0m     )\n\u001b[0;32m    895\u001b[0m     \u001b[38;5;28;01mreturn\u001b[39;00m \u001b[38;5;28mself\u001b[39m\n",
      "File \u001b[1;32mc:\\Users\\Administrator\\anaconda3\\Lib\\site-packages\\sklearn\\tree\\_classes.py:186\u001b[0m, in \u001b[0;36mBaseDecisionTree.fit\u001b[1;34m(self, X, y, sample_weight, check_input)\u001b[0m\n\u001b[0;32m    184\u001b[0m check_X_params \u001b[38;5;241m=\u001b[39m \u001b[38;5;28mdict\u001b[39m(dtype\u001b[38;5;241m=\u001b[39mDTYPE, accept_sparse\u001b[38;5;241m=\u001b[39m\u001b[38;5;124m\"\u001b[39m\u001b[38;5;124mcsc\u001b[39m\u001b[38;5;124m\"\u001b[39m)\n\u001b[0;32m    185\u001b[0m check_y_params \u001b[38;5;241m=\u001b[39m \u001b[38;5;28mdict\u001b[39m(ensure_2d\u001b[38;5;241m=\u001b[39m\u001b[38;5;28;01mFalse\u001b[39;00m, dtype\u001b[38;5;241m=\u001b[39m\u001b[38;5;28;01mNone\u001b[39;00m)\n\u001b[1;32m--> 186\u001b[0m X, y \u001b[38;5;241m=\u001b[39m \u001b[38;5;28mself\u001b[39m\u001b[38;5;241m.\u001b[39m_validate_data(\n\u001b[0;32m    187\u001b[0m     X, y, validate_separately\u001b[38;5;241m=\u001b[39m(check_X_params, check_y_params)\n\u001b[0;32m    188\u001b[0m )\n\u001b[0;32m    189\u001b[0m \u001b[38;5;28;01mif\u001b[39;00m issparse(X):\n\u001b[0;32m    190\u001b[0m     X\u001b[38;5;241m.\u001b[39msort_indices()\n",
      "File \u001b[1;32mc:\\Users\\Administrator\\anaconda3\\Lib\\site-packages\\sklearn\\base.py:579\u001b[0m, in \u001b[0;36mBaseEstimator._validate_data\u001b[1;34m(self, X, y, reset, validate_separately, **check_params)\u001b[0m\n\u001b[0;32m    577\u001b[0m \u001b[38;5;28;01mif\u001b[39;00m \u001b[38;5;124m\"\u001b[39m\u001b[38;5;124mestimator\u001b[39m\u001b[38;5;124m\"\u001b[39m \u001b[38;5;129;01mnot\u001b[39;00m \u001b[38;5;129;01min\u001b[39;00m check_X_params:\n\u001b[0;32m    578\u001b[0m     check_X_params \u001b[38;5;241m=\u001b[39m {\u001b[38;5;241m*\u001b[39m\u001b[38;5;241m*\u001b[39mdefault_check_params, \u001b[38;5;241m*\u001b[39m\u001b[38;5;241m*\u001b[39mcheck_X_params}\n\u001b[1;32m--> 579\u001b[0m X \u001b[38;5;241m=\u001b[39m check_array(X, input_name\u001b[38;5;241m=\u001b[39m\u001b[38;5;124m\"\u001b[39m\u001b[38;5;124mX\u001b[39m\u001b[38;5;124m\"\u001b[39m, \u001b[38;5;241m*\u001b[39m\u001b[38;5;241m*\u001b[39mcheck_X_params)\n\u001b[0;32m    580\u001b[0m \u001b[38;5;28;01mif\u001b[39;00m \u001b[38;5;124m\"\u001b[39m\u001b[38;5;124mestimator\u001b[39m\u001b[38;5;124m\"\u001b[39m \u001b[38;5;129;01mnot\u001b[39;00m \u001b[38;5;129;01min\u001b[39;00m check_y_params:\n\u001b[0;32m    581\u001b[0m     check_y_params \u001b[38;5;241m=\u001b[39m {\u001b[38;5;241m*\u001b[39m\u001b[38;5;241m*\u001b[39mdefault_check_params, \u001b[38;5;241m*\u001b[39m\u001b[38;5;241m*\u001b[39mcheck_y_params}\n",
      "File \u001b[1;32mc:\\Users\\Administrator\\anaconda3\\Lib\\site-packages\\sklearn\\utils\\validation.py:810\u001b[0m, in \u001b[0;36mcheck_array\u001b[1;34m(array, accept_sparse, accept_large_sparse, dtype, order, copy, force_all_finite, ensure_2d, allow_nd, ensure_min_samples, ensure_min_features, estimator, input_name)\u001b[0m\n\u001b[0;32m    805\u001b[0m \u001b[38;5;28;01mif\u001b[39;00m pandas_requires_conversion:\n\u001b[0;32m    806\u001b[0m     \u001b[38;5;66;03m# pandas dataframe requires conversion earlier to handle extension dtypes with\u001b[39;00m\n\u001b[0;32m    807\u001b[0m     \u001b[38;5;66;03m# nans\u001b[39;00m\n\u001b[0;32m    808\u001b[0m     \u001b[38;5;66;03m# Use the original dtype for conversion if dtype is None\u001b[39;00m\n\u001b[0;32m    809\u001b[0m     new_dtype \u001b[38;5;241m=\u001b[39m dtype_orig \u001b[38;5;28;01mif\u001b[39;00m dtype \u001b[38;5;129;01mis\u001b[39;00m \u001b[38;5;28;01mNone\u001b[39;00m \u001b[38;5;28;01melse\u001b[39;00m dtype\n\u001b[1;32m--> 810\u001b[0m     array \u001b[38;5;241m=\u001b[39m array\u001b[38;5;241m.\u001b[39mastype(new_dtype)\n\u001b[0;32m    811\u001b[0m     \u001b[38;5;66;03m# Since we converted here, we do not need to convert again later\u001b[39;00m\n\u001b[0;32m    812\u001b[0m     dtype \u001b[38;5;241m=\u001b[39m \u001b[38;5;28;01mNone\u001b[39;00m\n",
      "File \u001b[1;32mc:\\Users\\Administrator\\anaconda3\\Lib\\site-packages\\pandas\\core\\generic.py:6534\u001b[0m, in \u001b[0;36mNDFrame.astype\u001b[1;34m(self, dtype, copy, errors)\u001b[0m\n\u001b[0;32m   6530\u001b[0m     results \u001b[38;5;241m=\u001b[39m [ser\u001b[38;5;241m.\u001b[39mastype(dtype, copy\u001b[38;5;241m=\u001b[39mcopy) \u001b[38;5;28;01mfor\u001b[39;00m _, ser \u001b[38;5;129;01min\u001b[39;00m \u001b[38;5;28mself\u001b[39m\u001b[38;5;241m.\u001b[39mitems()]\n\u001b[0;32m   6532\u001b[0m \u001b[38;5;28;01melse\u001b[39;00m:\n\u001b[0;32m   6533\u001b[0m     \u001b[38;5;66;03m# else, only a single dtype is given\u001b[39;00m\n\u001b[1;32m-> 6534\u001b[0m     new_data \u001b[38;5;241m=\u001b[39m \u001b[38;5;28mself\u001b[39m\u001b[38;5;241m.\u001b[39m_mgr\u001b[38;5;241m.\u001b[39mastype(dtype\u001b[38;5;241m=\u001b[39mdtype, copy\u001b[38;5;241m=\u001b[39mcopy, errors\u001b[38;5;241m=\u001b[39merrors)\n\u001b[0;32m   6535\u001b[0m     res \u001b[38;5;241m=\u001b[39m \u001b[38;5;28mself\u001b[39m\u001b[38;5;241m.\u001b[39m_constructor_from_mgr(new_data, axes\u001b[38;5;241m=\u001b[39mnew_data\u001b[38;5;241m.\u001b[39maxes)\n\u001b[0;32m   6536\u001b[0m     \u001b[38;5;28;01mreturn\u001b[39;00m res\u001b[38;5;241m.\u001b[39m__finalize__(\u001b[38;5;28mself\u001b[39m, method\u001b[38;5;241m=\u001b[39m\u001b[38;5;124m\"\u001b[39m\u001b[38;5;124mastype\u001b[39m\u001b[38;5;124m\"\u001b[39m)\n",
      "File \u001b[1;32mc:\\Users\\Administrator\\anaconda3\\Lib\\site-packages\\pandas\\core\\internals\\managers.py:414\u001b[0m, in \u001b[0;36mBaseBlockManager.astype\u001b[1;34m(self, dtype, copy, errors)\u001b[0m\n\u001b[0;32m    411\u001b[0m \u001b[38;5;28;01melif\u001b[39;00m using_copy_on_write():\n\u001b[0;32m    412\u001b[0m     copy \u001b[38;5;241m=\u001b[39m \u001b[38;5;28;01mFalse\u001b[39;00m\n\u001b[1;32m--> 414\u001b[0m \u001b[38;5;28;01mreturn\u001b[39;00m \u001b[38;5;28mself\u001b[39m\u001b[38;5;241m.\u001b[39mapply(\n\u001b[0;32m    415\u001b[0m     \u001b[38;5;124m\"\u001b[39m\u001b[38;5;124mastype\u001b[39m\u001b[38;5;124m\"\u001b[39m,\n\u001b[0;32m    416\u001b[0m     dtype\u001b[38;5;241m=\u001b[39mdtype,\n\u001b[0;32m    417\u001b[0m     copy\u001b[38;5;241m=\u001b[39mcopy,\n\u001b[0;32m    418\u001b[0m     errors\u001b[38;5;241m=\u001b[39merrors,\n\u001b[0;32m    419\u001b[0m     using_cow\u001b[38;5;241m=\u001b[39musing_copy_on_write(),\n\u001b[0;32m    420\u001b[0m )\n",
      "File \u001b[1;32mc:\\Users\\Administrator\\anaconda3\\Lib\\site-packages\\pandas\\core\\internals\\managers.py:354\u001b[0m, in \u001b[0;36mBaseBlockManager.apply\u001b[1;34m(self, f, align_keys, **kwargs)\u001b[0m\n\u001b[0;32m    352\u001b[0m         applied \u001b[38;5;241m=\u001b[39m b\u001b[38;5;241m.\u001b[39mapply(f, \u001b[38;5;241m*\u001b[39m\u001b[38;5;241m*\u001b[39mkwargs)\n\u001b[0;32m    353\u001b[0m     \u001b[38;5;28;01melse\u001b[39;00m:\n\u001b[1;32m--> 354\u001b[0m         applied \u001b[38;5;241m=\u001b[39m \u001b[38;5;28mgetattr\u001b[39m(b, f)(\u001b[38;5;241m*\u001b[39m\u001b[38;5;241m*\u001b[39mkwargs)\n\u001b[0;32m    355\u001b[0m     result_blocks \u001b[38;5;241m=\u001b[39m extend_blocks(applied, result_blocks)\n\u001b[0;32m    357\u001b[0m out \u001b[38;5;241m=\u001b[39m \u001b[38;5;28mtype\u001b[39m(\u001b[38;5;28mself\u001b[39m)\u001b[38;5;241m.\u001b[39mfrom_blocks(result_blocks, \u001b[38;5;28mself\u001b[39m\u001b[38;5;241m.\u001b[39maxes)\n",
      "File \u001b[1;32mc:\\Users\\Administrator\\anaconda3\\Lib\\site-packages\\pandas\\core\\internals\\blocks.py:616\u001b[0m, in \u001b[0;36mBlock.astype\u001b[1;34m(self, dtype, copy, errors, using_cow)\u001b[0m\n\u001b[0;32m    596\u001b[0m \u001b[38;5;250m\u001b[39m\u001b[38;5;124;03m\"\"\"\u001b[39;00m\n\u001b[0;32m    597\u001b[0m \u001b[38;5;124;03mCoerce to the new dtype.\u001b[39;00m\n\u001b[0;32m    598\u001b[0m \n\u001b[1;32m   (...)\u001b[0m\n\u001b[0;32m    612\u001b[0m \u001b[38;5;124;03mBlock\u001b[39;00m\n\u001b[0;32m    613\u001b[0m \u001b[38;5;124;03m\"\"\"\u001b[39;00m\n\u001b[0;32m    614\u001b[0m values \u001b[38;5;241m=\u001b[39m \u001b[38;5;28mself\u001b[39m\u001b[38;5;241m.\u001b[39mvalues\n\u001b[1;32m--> 616\u001b[0m new_values \u001b[38;5;241m=\u001b[39m astype_array_safe(values, dtype, copy\u001b[38;5;241m=\u001b[39mcopy, errors\u001b[38;5;241m=\u001b[39merrors)\n\u001b[0;32m    618\u001b[0m new_values \u001b[38;5;241m=\u001b[39m maybe_coerce_values(new_values)\n\u001b[0;32m    620\u001b[0m refs \u001b[38;5;241m=\u001b[39m \u001b[38;5;28;01mNone\u001b[39;00m\n",
      "File \u001b[1;32mc:\\Users\\Administrator\\anaconda3\\Lib\\site-packages\\pandas\\core\\dtypes\\astype.py:238\u001b[0m, in \u001b[0;36mastype_array_safe\u001b[1;34m(values, dtype, copy, errors)\u001b[0m\n\u001b[0;32m    235\u001b[0m     dtype \u001b[38;5;241m=\u001b[39m dtype\u001b[38;5;241m.\u001b[39mnumpy_dtype\n\u001b[0;32m    237\u001b[0m \u001b[38;5;28;01mtry\u001b[39;00m:\n\u001b[1;32m--> 238\u001b[0m     new_values \u001b[38;5;241m=\u001b[39m astype_array(values, dtype, copy\u001b[38;5;241m=\u001b[39mcopy)\n\u001b[0;32m    239\u001b[0m \u001b[38;5;28;01mexcept\u001b[39;00m (\u001b[38;5;167;01mValueError\u001b[39;00m, \u001b[38;5;167;01mTypeError\u001b[39;00m):\n\u001b[0;32m    240\u001b[0m     \u001b[38;5;66;03m# e.g. _astype_nansafe can fail on object-dtype of strings\u001b[39;00m\n\u001b[0;32m    241\u001b[0m     \u001b[38;5;66;03m#  trying to convert to float\u001b[39;00m\n\u001b[0;32m    242\u001b[0m     \u001b[38;5;28;01mif\u001b[39;00m errors \u001b[38;5;241m==\u001b[39m \u001b[38;5;124m\"\u001b[39m\u001b[38;5;124mignore\u001b[39m\u001b[38;5;124m\"\u001b[39m:\n",
      "File \u001b[1;32mc:\\Users\\Administrator\\anaconda3\\Lib\\site-packages\\pandas\\core\\dtypes\\astype.py:183\u001b[0m, in \u001b[0;36mastype_array\u001b[1;34m(values, dtype, copy)\u001b[0m\n\u001b[0;32m    180\u001b[0m     values \u001b[38;5;241m=\u001b[39m values\u001b[38;5;241m.\u001b[39mastype(dtype, copy\u001b[38;5;241m=\u001b[39mcopy)\n\u001b[0;32m    182\u001b[0m \u001b[38;5;28;01melse\u001b[39;00m:\n\u001b[1;32m--> 183\u001b[0m     values \u001b[38;5;241m=\u001b[39m _astype_nansafe(values, dtype, copy\u001b[38;5;241m=\u001b[39mcopy)\n\u001b[0;32m    185\u001b[0m \u001b[38;5;66;03m# in pandas we don't store numpy str dtypes, so convert to object\u001b[39;00m\n\u001b[0;32m    186\u001b[0m \u001b[38;5;28;01mif\u001b[39;00m \u001b[38;5;28misinstance\u001b[39m(dtype, np\u001b[38;5;241m.\u001b[39mdtype) \u001b[38;5;129;01mand\u001b[39;00m \u001b[38;5;28missubclass\u001b[39m(values\u001b[38;5;241m.\u001b[39mdtype\u001b[38;5;241m.\u001b[39mtype, \u001b[38;5;28mstr\u001b[39m):\n",
      "File \u001b[1;32mc:\\Users\\Administrator\\anaconda3\\Lib\\site-packages\\pandas\\core\\dtypes\\astype.py:134\u001b[0m, in \u001b[0;36m_astype_nansafe\u001b[1;34m(arr, dtype, copy, skipna)\u001b[0m\n\u001b[0;32m    130\u001b[0m     \u001b[38;5;28;01mraise\u001b[39;00m \u001b[38;5;167;01mValueError\u001b[39;00m(msg)\n\u001b[0;32m    132\u001b[0m \u001b[38;5;28;01mif\u001b[39;00m copy \u001b[38;5;129;01mor\u001b[39;00m arr\u001b[38;5;241m.\u001b[39mdtype \u001b[38;5;241m==\u001b[39m \u001b[38;5;28mobject\u001b[39m \u001b[38;5;129;01mor\u001b[39;00m dtype \u001b[38;5;241m==\u001b[39m \u001b[38;5;28mobject\u001b[39m:\n\u001b[0;32m    133\u001b[0m     \u001b[38;5;66;03m# Explicit copy, or required since NumPy can't view from / to object.\u001b[39;00m\n\u001b[1;32m--> 134\u001b[0m     \u001b[38;5;28;01mreturn\u001b[39;00m arr\u001b[38;5;241m.\u001b[39mastype(dtype, copy\u001b[38;5;241m=\u001b[39m\u001b[38;5;28;01mTrue\u001b[39;00m)\n\u001b[0;32m    136\u001b[0m \u001b[38;5;28;01mreturn\u001b[39;00m arr\u001b[38;5;241m.\u001b[39mastype(dtype, copy\u001b[38;5;241m=\u001b[39mcopy)\n",
      "\u001b[1;31mValueError\u001b[0m: could not convert string to float: 'no'"
     ]
    }
   ],
   "source": [
    "# Decision Tree\n",
    "print(\"\\nTraining Decision Tree...\")\n",
    "dtree = models['Decision Tree']\n",
    "dtree.fit(X_train, y_train)\n",
    "y_pred_dt = dtree.predict(X_test)\n",
    "\n",
    "# Evaluate the Decision Tree model\n",
    "print(\"\\nDecision Tree Evaluation:\\n\")\n",
    "print(\"Confusion Matrix:\\n\", confusion_matrix(y_test, y_pred_dt))\n",
    "print(\"Classification Report:\\n\", classification_report(y_test, y_pred_dt))\n",
    "print(\"Accuracy Score:\", accuracy_score(y_test, y_pred_dt))\n",
    "print(\"ROC AUC Score:\", roc_auc_score(y_test, y_pred_dt))\n",
    "print(\"F1 Score:\", f1_score(y_test, y_pred_dt))\n",
    "cv_scores_dt = cross_val_score(dtree, X, y, cv=5, scoring='f1')\n",
    "print(f\"Cross-Validation F1 Scores for Decision Tree: {cv_scores_dt}\")\n",
    "print(f\"Mean Cross-Validation F1 Score for Decision Tree: {cv_scores_dt.mean()}\")\n",
    "\n"
   ]
  },
  {
   "cell_type": "code",
   "execution_count": null,
   "metadata": {},
   "outputs": [],
   "source": [
    "# Logistic Regression\n",
    "print(\"Training Logistic Regression...\")\n",
    "log_reg = models['Logistic Regression']\n",
    "log_reg.fit(X_train, y_train)\n",
    "y_pred_lr = log_reg.predict(X_test)\n",
    "\n",
    "# Evaluate the Logistic Regression model\n",
    "print(\"\\nLogistic Regression Evaluation:\\n\")\n",
    "print(\"Confusion Matrix:\\n\", confusion_matrix(y_test, y_pred_lr))\n",
    "print(\"Classification Report:\\n\", classification_report(y_test, y_pred_lr))\n",
    "print(\"Accuracy Score:\", accuracy_score(y_test, y_pred_lr))\n",
    "print(\"ROC AUC Score:\", roc_auc_score(y_test, y_pred_lr))\n",
    "print(\"F1 Score:\", f1_score(y_test, y_pred_lr))\n",
    "cv_scores_lr = cross_val_score(lr, X, y, cv=5, scoring='f1')\n",
    "print(f\"Cross-Validation F1 Scores for Logistic Regression: {cv_scores_lr}\")\n",
    "print(f\"Mean Cross-Validation F1 Score for Logistic Regression: {cv_scores_lr.mean()}\")"
   ]
  },
  {
   "cell_type": "code",
   "execution_count": null,
   "metadata": {},
   "outputs": [],
   "source": [
    "# Random Forest\n",
    "print(\"\\nTraining Random Forest...\")\n",
    "rf = models['Random Forest']\n",
    "rf.fit(X_train, y_train)\n",
    "y_pred_rf = rf.predict(X_test)\n",
    "\n",
    "# Evaluate the Random Forest model\n",
    "print(\"\\nRandom Forest Evaluation:\\n\")\n",
    "print(\"Confusion Matrix:\\n\", confusion_matrix(y_test, y_pred_rf))\n",
    "print(\"Classification Report:\\n\", classification_report(y_test, y_pred_rf))\n",
    "print(\"Accuracy Score:\", accuracy_score(y_test, y_pred_rf))\n",
    "print(\"ROC AUC Score:\", roc_auc_score(y_test, y_pred_rf))\n",
    "print(\"F1 Score:\", f1_score(y_test, y_pred_dt))\n",
    "cv_scores_dt = cross_val_score(dtree, X, y, cv=5, scoring='f1')\n",
    "print(f\"Cross-Validation F1 Scores for Decision Tree: {cv_scores_dt}\")\n",
    "print(f\"Mean Cross-Validation F1 Score for Decision Tree: {cv_scores_dt.mean()}\")\n",
    "\n"
   ]
  },
  {
   "cell_type": "code",
   "execution_count": null,
   "metadata": {},
   "outputs": [],
   "source": [
    "# Ridge Regression\n",
    "print(\"Training Ridge Regression...\")\n",
    "ridge = models['Ridge Regression']\n",
    "ridge.fit(X_train, y_train)\n",
    "y_pred_ridge = ridge.predict(X_test)\n",
    "print(\"\\nRidge Regression Evaluation:\\n\")\n",
    "print(\"Confusion Matrix:\\n\", confusion_matrix(y_test, np.round(y_pred_ridge)))\n",
    "print(\"Classification Report:\\n\", classification_report(y_test, np.round(y_pred_ridge)))\n",
    "print(\"Accuracy Score:\", accuracy_score(y_test, np.round(y_pred_ridge)))\n",
    "print(\"ROC AUC Score:\", roc_auc_score(y_test, np.round(y_pred_ridge)))\n",
    "print(\"F1 Score:\", f1_score(y_test, np.round(y_pred_ridge)))\n",
    "cv_scores_ridge = cross_val_score(ridge, X, y, cv=5, scoring='f1')\n",
    "print(f\"Cross-Validation F1 Scores for Ridge Regression: {cv_scores_ridge}\")\n",
    "print(f\"Mean Cross-Validation F1 Score for Ridge Regression: {cv_scores_ridge.mean()}\")"
   ]
  },
  {
   "cell_type": "code",
   "execution_count": null,
   "metadata": {},
   "outputs": [],
   "source": [
    "# Lasso Regression\n",
    "print(\"Training Lasso Regression...\")\n",
    "lasso = models['Lasso Regression']\n",
    "lasso.fit(X_train, y_train)\n",
    "y_pred_lasso = lasso.predict(X_test)\n",
    "print(\"\\nLasso Regression Evaluation:\\n\")\n",
    "print(\"Confusion Matrix:\\n\", confusion_matrix(y_test, np.round(y_pred_lasso)))\n",
    "print(\"Classification Report:\\n\", classification_report(y_test, np.round(y_pred_lasso)))\n",
    "print(\"Accuracy Score:\", accuracy_score(y_test, np.round(y_pred_lasso)))\n",
    "print(\"ROC AUC Score:\", roc_auc_score(y_test, np.round(y_pred_lasso)))\n",
    "print(\"F1 Score:\", f1_score(y_test, np.round(y_pred_lasso)))\n",
    "cv_scores_lasso = cross_val_score(lasso, X, y, cv=5, scoring='f1')\n",
    "print(f\"Cross-Validation F1 Scores for Lasso Regression: {cv_scores_lasso}\")\n",
    "print(f\"Mean Cross-Validation F1 Score for Lasso Regression: {cv_scores_lasso.mean()}\")"
   ]
  },
  {
   "cell_type": "code",
   "execution_count": null,
   "metadata": {},
   "outputs": [],
   "source": [
    "# Compare and save the best model\n",
    "results = {\n",
    "    'Logistic Regression': {\n",
    "        'Confusion Matrix': confusion_matrix(y_test, y_pred_lr),\n",
    "        'Classification Report': classification_report(y_test, y_pred_lr),\n",
    "        'Accuracy Score': accuracy_score(y_test, y_pred_lr),\n",
    "        'ROC AUC Score': roc_auc_score(y_test, y_pred_lr)\n",
    "    },\n",
    "    'Decision Tree': {\n",
    "        'Confusion Matrix': confusion_matrix(y_test, y_pred_dt),\n",
    "        'Classification Report': classification_report(y_test, y_pred_dt),\n",
    "        'Accuracy Score': accuracy_score(y_test, y_pred_dt),\n",
    "        'ROC AUC Score': roc_auc_score(y_test, y_pred_dt)\n",
    "    },\n",
    "    'Random Forest': {\n",
    "        'Confusion Matrix': confusion_matrix(y_test, y_pred_rf),\n",
    "        'Classification Report': classification_report(y_test, y_pred_rf),\n",
    "        'Accuracy Score': accuracy_score(y_test, y_pred_rf),\n",
    "        'ROC AUC Score': roc_auc_score(y_test, y_pred_rf)\n",
    "    }\n",
    "}\n",
    "\n",
    "best_model_name = max(results, key=lambda k: results[k]['ROC AUC Score'])\n",
    "print(f\"\\nBest Model: {best_model_name}\\n\")\n",
    "print(results[best_model_name])\n",
    "\n",
    "# Save the best model\n",
    "import joblib\n",
    "best_model = models[best_model_name]\n",
    "joblib.dump(best_model, 'best_model.pkl')\n",
    "print(\"Best model saved as 'best_model.pkl'\")"
   ]
  }
 ],
 "metadata": {
  "kernelspec": {
   "display_name": "base",
   "language": "python",
   "name": "python3"
  },
  "language_info": {
   "codemirror_mode": {
    "name": "ipython",
    "version": 3
   },
   "file_extension": ".py",
   "mimetype": "text/x-python",
   "name": "python",
   "nbconvert_exporter": "python",
   "pygments_lexer": "ipython3",
   "version": "3.11.7"
  }
 },
 "nbformat": 4,
 "nbformat_minor": 2
}
